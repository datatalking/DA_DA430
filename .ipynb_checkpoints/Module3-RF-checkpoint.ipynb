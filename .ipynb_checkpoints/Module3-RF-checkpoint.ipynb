{
 "cells": [
  {
   "cell_type": "code",
   "execution_count": 2,
   "id": "b727217d",
   "metadata": {},
   "outputs": [
    {
     "name": "stdout",
     "output_type": "stream",
     "text": [
      "Requirement already satisfied: rfpimp in /Users/vanessawilson/.conda/envs/DA_DA430/lib/python3.8/site-packages (1.3.7)\r\n",
      "Requirement already satisfied: pandas in /Users/vanessawilson/.conda/envs/DA_DA430/lib/python3.8/site-packages (from rfpimp) (1.3.4)\r\n",
      "Requirement already satisfied: matplotlib in /Users/vanessawilson/.conda/envs/DA_DA430/lib/python3.8/site-packages (from rfpimp) (3.4.3)\r\n",
      "Requirement already satisfied: scikit-learn in /Users/vanessawilson/.conda/envs/DA_DA430/lib/python3.8/site-packages (from rfpimp) (0.22.2)\r\n",
      "Requirement already satisfied: numpy in /Users/vanessawilson/.conda/envs/DA_DA430/lib/python3.8/site-packages (from rfpimp) (1.21.2)\r\n",
      "Requirement already satisfied: kiwisolver>=1.0.1 in /Users/vanessawilson/.conda/envs/DA_DA430/lib/python3.8/site-packages (from matplotlib->rfpimp) (1.3.2)\r\n",
      "Requirement already satisfied: python-dateutil>=2.7 in /Users/vanessawilson/.conda/envs/DA_DA430/lib/python3.8/site-packages (from matplotlib->rfpimp) (2.8.2)\r\n",
      "Requirement already satisfied: cycler>=0.10 in /Users/vanessawilson/.conda/envs/DA_DA430/lib/python3.8/site-packages (from matplotlib->rfpimp) (0.10.0)\r\n",
      "Requirement already satisfied: pillow>=6.2.0 in /Users/vanessawilson/.conda/envs/DA_DA430/lib/python3.8/site-packages (from matplotlib->rfpimp) (8.4.0)\r\n",
      "Requirement already satisfied: pyparsing>=2.2.1 in /Users/vanessawilson/.conda/envs/DA_DA430/lib/python3.8/site-packages (from matplotlib->rfpimp) (2.4.7)\r\n",
      "Requirement already satisfied: pytz>=2017.3 in /Users/vanessawilson/.conda/envs/DA_DA430/lib/python3.8/site-packages (from pandas->rfpimp) (2021.3)\r\n",
      "Requirement already satisfied: joblib>=0.11 in /Users/vanessawilson/.conda/envs/DA_DA430/lib/python3.8/site-packages (from scikit-learn->rfpimp) (1.1.0)\r\n",
      "Requirement already satisfied: scipy>=0.17.0 in /Users/vanessawilson/.conda/envs/DA_DA430/lib/python3.8/site-packages (from scikit-learn->rfpimp) (1.7.1)\r\n",
      "Requirement already satisfied: six in /Users/vanessawilson/.conda/envs/DA_DA430/lib/python3.8/site-packages (from cycler>=0.10->matplotlib->rfpimp) (1.16.0)\r\n",
      "Requirement already satisfied: pandas in /Users/vanessawilson/.conda/envs/DA_DA430/lib/python3.8/site-packages (1.3.4)\r\n",
      "Requirement already satisfied: python-dateutil>=2.7.3 in /Users/vanessawilson/.conda/envs/DA_DA430/lib/python3.8/site-packages (from pandas) (2.8.2)\r\n",
      "Requirement already satisfied: pytz>=2017.3 in /Users/vanessawilson/.conda/envs/DA_DA430/lib/python3.8/site-packages (from pandas) (2021.3)\r\n",
      "Requirement already satisfied: numpy>=1.17.3 in /Users/vanessawilson/.conda/envs/DA_DA430/lib/python3.8/site-packages (from pandas) (1.21.2)\r\n",
      "Requirement already satisfied: six>=1.5 in /Users/vanessawilson/.conda/envs/DA_DA430/lib/python3.8/site-packages (from python-dateutil>=2.7.3->pandas) (1.16.0)\r\n",
      "\u001b[31mERROR: Could not find a version that satisfies the requirement sklearn.ensemble (from versions: none)\u001b[0m\r\n",
      "\u001b[31mERROR: No matching distribution found for sklearn.ensemble\u001b[0m\r\n",
      "\u001b[31mERROR: Could not find a version that satisfies the requirement sklearn.model_selection (from versions: none)\u001b[0m\r\n",
      "\u001b[31mERROR: No matching distribution found for sklearn.model_selection\u001b[0m\r\n",
      "Requirement already satisfied: scikit-learn==0.22.2 in /Users/vanessawilson/.conda/envs/DA_DA430/lib/python3.8/site-packages (0.22.2)\r\n",
      "Requirement already satisfied: scipy>=0.17.0 in /Users/vanessawilson/.conda/envs/DA_DA430/lib/python3.8/site-packages (from scikit-learn==0.22.2) (1.7.1)\r\n",
      "Requirement already satisfied: numpy>=1.11.0 in /Users/vanessawilson/.conda/envs/DA_DA430/lib/python3.8/site-packages (from scikit-learn==0.22.2) (1.21.2)\r\n",
      "Requirement already satisfied: joblib>=0.11 in /Users/vanessawilson/.conda/envs/DA_DA430/lib/python3.8/site-packages (from scikit-learn==0.22.2) (1.1.0)\r\n"
     ]
    },
    {
     "ename": "ModuleNotFoundError",
     "evalue": "No module named 'rfpimp'",
     "output_type": "error",
     "traceback": [
      "\u001b[0;31m---------------------------------------------------------------------------\u001b[0m",
      "\u001b[0;31mModuleNotFoundError\u001b[0m                       Traceback (most recent call last)",
      "\u001b[0;32m/var/folders/m3/jsfh6v792_bg33tq9dyqyv200000gn/T/ipykernel_4473/1080922577.py\u001b[0m in \u001b[0;36m<module>\u001b[0;34m\u001b[0m\n\u001b[1;32m      5\u001b[0m \u001b[0mget_ipython\u001b[0m\u001b[0;34m(\u001b[0m\u001b[0;34m)\u001b[0m\u001b[0;34m.\u001b[0m\u001b[0msystem\u001b[0m\u001b[0;34m(\u001b[0m\u001b[0;34m'pip install scikit-learn==0.22.2'\u001b[0m\u001b[0;34m)\u001b[0m\u001b[0;34m\u001b[0m\u001b[0m\n\u001b[1;32m      6\u001b[0m \u001b[0;34m\u001b[0m\u001b[0m\n\u001b[0;32m----> 7\u001b[0;31m \u001b[0;32mimport\u001b[0m \u001b[0mrfpimp\u001b[0m\u001b[0;34m\u001b[0m\u001b[0m\n\u001b[0m\u001b[1;32m      8\u001b[0m \u001b[0;32mimport\u001b[0m \u001b[0mpandas\u001b[0m \u001b[0;32mas\u001b[0m \u001b[0mpd\u001b[0m\u001b[0;34m\u001b[0m\u001b[0m\n\u001b[1;32m      9\u001b[0m \u001b[0;32mimport\u001b[0m \u001b[0msklearn\u001b[0m\u001b[0;34m.\u001b[0m\u001b[0mensemble\u001b[0m\u001b[0;34m.\u001b[0m\u001b[0mRandomForestRegressor\u001b[0m\u001b[0;34m\u001b[0m\u001b[0m\n",
      "\u001b[0;31mModuleNotFoundError\u001b[0m: No module named 'rfpimp'"
     ]
    }
   ],
   "source": [
    "!pip3 install rfpimp\n",
    "!pip3 install pandas\n",
    "!pip3 install sklearn.ensemble\n",
    "!pip3 install sklearn.model_selection\n",
    "!pip install scikit-learn==0.22.2\n",
    "\n",
    "import rfpimp\n",
    "import pandas as pd\n",
    "import sklearn.ensemble.RandomForestRegressor\n",
    "from sklearn.model_selection import train_test_split\n",
    "\n",
    "df_orig = pd.read_csv(\"/Users/vanessawilson/sbox/Curriculum/DA_DA430/rent.csv\")\n"
   ]
  },
  {
   "cell_type": "code",
   "execution_count": null,
   "id": "da305a01",
   "metadata": {},
   "outputs": [],
   "source": [
    "df = df_orig.copy()\n",
    "\n",
    "# attentuate affect of outliers in price\n",
    "df['price'] = np.log(df['price'])\n",
    "\n"
   ]
  },
  {
   "cell_type": "code",
   "execution_count": null,
   "id": "f3a39f41",
   "metadata": {},
   "outputs": [],
   "source": [
    "df.head()"
   ]
  },
  {
   "cell_type": "code",
   "execution_count": null,
   "id": "10b6bb2f",
   "metadata": {},
   "outputs": [],
   "source": [
    "df_train, df_test = train_test_split(df_orig, test_size=0.20)\n",
    "features = ['bathrooms','bedrooms','price','longitude','latitude',\n",
    "            'interest_level']\n",
    "df_train = df_train[features]\n",
    "df_test = df_test[features]\n",
    "\n",
    "X_train, y_train = df_train.drop('interest_level',axis=1), df_train['interest_level']\n",
    "X_test, y_test = df_test.drop('interest_level',axis=1), df_test['interest_level']\n",
    "# Add column of random numbers\n",
    "X_train['random'] = np.random.random(size=len(X_train))\n",
    "X_test['random'] = np.random.random(size=len(X_test))\n",
    "\n",
    "rf = RandomForestClassifier(n_estimators=100,min_samples_leaf=5,n_jobs=-1,oob_score=True)\n",
    "rf.fit(X_train, y_train)\n",
    "\n",
    "imp = importances(rf, X_test, y_test, n_samples=-1)\n",
    "viz = plot_importances(imp)\n",
    "viz.view()"
   ]
  },
  {
   "cell_type": "code",
   "execution_count": null,
   "id": "6cc65033",
   "metadata": {},
   "outputs": [],
   "source": []
  }
 ],
 "metadata": {
  "kernelspec": {
   "display_name": "PyCharm (Task_Scheduler_Problem)",
   "language": "python",
   "name": "pycharm-68e0aedf"
  },
  "language_info": {
   "codemirror_mode": {
    "name": "ipython",
    "version": 3
   },
   "file_extension": ".py",
   "mimetype": "text/x-python",
   "name": "python",
   "nbconvert_exporter": "python",
   "pygments_lexer": "ipython3",
   "version": "3.7.0"
  }
 },
 "nbformat": 4,
 "nbformat_minor": 5
}
