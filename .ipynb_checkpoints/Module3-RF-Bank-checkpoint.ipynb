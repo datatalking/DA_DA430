{
 "cells": [
  {
   "cell_type": "code",
   "execution_count": null,
   "id": "b727217d",
   "metadata": {},
   "outputs": [
    {
     "name": "stdout",
     "output_type": "stream",
     "text": [
      "Requirement already satisfied: rfpimp in /Users/vanessawilson/.conda/envs/DA_DA430/lib/python3.8/site-packages (1.3.7)\n",
      "Requirement already satisfied: scikit-learn in /Users/vanessawilson/.conda/envs/DA_DA430/lib/python3.8/site-packages (from rfpimp) (1.0)\n",
      "Requirement already satisfied: pandas in /Users/vanessawilson/.conda/envs/DA_DA430/lib/python3.8/site-packages (from rfpimp) (1.3.4)\n",
      "Requirement already satisfied: matplotlib in /Users/vanessawilson/.conda/envs/DA_DA430/lib/python3.8/site-packages (from rfpimp) (3.4.3)\n",
      "Requirement already satisfied: numpy in /Users/vanessawilson/.conda/envs/DA_DA430/lib/python3.8/site-packages (from rfpimp) (1.21.2)\n",
      "Requirement already satisfied: kiwisolver>=1.0.1 in /Users/vanessawilson/.conda/envs/DA_DA430/lib/python3.8/site-packages (from matplotlib->rfpimp) (1.3.2)\n",
      "Requirement already satisfied: pillow>=6.2.0 in /Users/vanessawilson/.conda/envs/DA_DA430/lib/python3.8/site-packages (from matplotlib->rfpimp) (8.4.0)\n",
      "Requirement already satisfied: python-dateutil>=2.7 in /Users/vanessawilson/.conda/envs/DA_DA430/lib/python3.8/site-packages (from matplotlib->rfpimp) (2.8.2)\n",
      "Requirement already satisfied: cycler>=0.10 in /Users/vanessawilson/.conda/envs/DA_DA430/lib/python3.8/site-packages (from matplotlib->rfpimp) (0.10.0)\n",
      "Requirement already satisfied: pyparsing>=2.2.1 in /Users/vanessawilson/.conda/envs/DA_DA430/lib/python3.8/site-packages (from matplotlib->rfpimp) (2.4.7)\n",
      "Requirement already satisfied: pytz>=2017.3 in /Users/vanessawilson/.conda/envs/DA_DA430/lib/python3.8/site-packages (from pandas->rfpimp) (2021.3)\n",
      "Requirement already satisfied: threadpoolctl>=2.0.0 in /Users/vanessawilson/.conda/envs/DA_DA430/lib/python3.8/site-packages (from scikit-learn->rfpimp) (3.0.0)\n",
      "Requirement already satisfied: joblib>=0.11 in /Users/vanessawilson/.conda/envs/DA_DA430/lib/python3.8/site-packages (from scikit-learn->rfpimp) (1.1.0)\n",
      "Requirement already satisfied: scipy>=1.1.0 in /Users/vanessawilson/.conda/envs/DA_DA430/lib/python3.8/site-packages (from scikit-learn->rfpimp) (1.7.1)\n",
      "Requirement already satisfied: six in /Users/vanessawilson/.conda/envs/DA_DA430/lib/python3.8/site-packages (from cycler>=0.10->matplotlib->rfpimp) (1.16.0)\n",
      "Requirement already satisfied: pandas in /Users/vanessawilson/.conda/envs/DA_DA430/lib/python3.8/site-packages (1.3.4)\n",
      "Requirement already satisfied: python-dateutil>=2.7.3 in /Users/vanessawilson/.conda/envs/DA_DA430/lib/python3.8/site-packages (from pandas) (2.8.2)\n",
      "Requirement already satisfied: pytz>=2017.3 in /Users/vanessawilson/.conda/envs/DA_DA430/lib/python3.8/site-packages (from pandas) (2021.3)\n",
      "Requirement already satisfied: numpy>=1.17.3 in /Users/vanessawilson/.conda/envs/DA_DA430/lib/python3.8/site-packages (from pandas) (1.21.2)\n",
      "Requirement already satisfied: six>=1.5 in /Users/vanessawilson/.conda/envs/DA_DA430/lib/python3.8/site-packages (from python-dateutil>=2.7.3->pandas) (1.16.0)\n",
      "\u001b[31mERROR: Could not find a version that satisfies the requirement sklearn.ensemble (from versions: none)\u001b[0m\n",
      "\u001b[31mERROR: No matching distribution found for sklearn.ensemble\u001b[0m\n"
     ]
    }
   ],
   "source": [
    "!pip3 install rfpimp\n",
    "!pip3 install pandas\n",
    "!pip3 install sklearn.ensemble\n",
    "!pip3 install sklearn.model_selection\n",
    "!pip3 install sklearn.ensemble\n",
    "\n",
    "from rfpimp import *\n",
    "import pandas as pd\n",
    "from sklearn.ensemble import RandomForestRegressor\n",
    "from sklearn.model_selection import train_test_split\n",
    "\n",
    "# df_orig = pd.read_csv(\"/Users/vanessawilson/sbox/Curriculum/DA_DA430/rent.csv\")\n",
    "df_orig = pd.read_csv(\"/Users/vanessawilson/sbox/Curriculum/DA_DA430/bank-additional/bank-additional-full.csv\")\n"
   ]
  },
  {
   "cell_type": "code",
   "execution_count": null,
   "id": "da305a01",
   "metadata": {},
   "outputs": [],
   "source": [
    "df.head()"
   ]
  },
  {
   "cell_type": "code",
   "execution_count": null,
   "id": "engaging-special",
   "metadata": {
    "pycharm": {
     "name": "#%%\n"
    }
   },
   "outputs": [],
   "source": [
    "df = df_orig.copy()\n",
    "\n",
    "# attentuate affect of outliers in price\n",
    "df['price'] = np.log(df['price'])\n",
    "\n"
   ]
  },
  {
   "cell_type": "code",
   "execution_count": null,
   "id": "f3a39f41",
   "metadata": {},
   "outputs": [],
   "source": [
    "df.head()"
   ]
  },
  {
   "cell_type": "code",
   "execution_count": null,
   "id": "10b6bb2f",
   "metadata": {},
   "outputs": [],
   "source": [
    "df_train, df_test = train_test_split(df_orig, test_size=0.20)\n",
    "features = ['bathrooms','bedrooms','price','longitude','latitude',\n",
    "            'interest_level']\n",
    "df_train = df_train[features]\n",
    "df_test = df_test[features]\n",
    "\n",
    "X_train, y_train = df_train.drop('interest_level',axis=1), df_train['interest_level']\n",
    "X_test, y_test = df_test.drop('interest_level',axis=1), df_test['interest_level']\n",
    "# Add column of random numbers\n",
    "X_train['random'] = np.random.random(size=len(X_train))\n",
    "X_test['random'] = np.random.random(size=len(X_test))\n",
    "\n",
    "rf = RandomForestClassifier(n_estimators=100,min_samples_leaf=5,n_jobs=-1,oob_score=True)\n",
    "rf.fit(X_train, y_train)\n",
    "\n",
    "imp = importances(rf, X_test, y_test, n_samples=-1)\n",
    "viz = plot_importances(imp)\n",
    "viz.view()"
   ]
  },
  {
   "cell_type": "code",
   "execution_count": null,
   "id": "6cc65033",
   "metadata": {},
   "outputs": [],
   "source": []
  }
 ],
 "metadata": {
  "kernelspec": {
   "display_name": "PyCharm (DA_DA430)",
   "language": "python",
   "name": "pycharm-69b0bc48"
  },
  "language_info": {
   "codemirror_mode": {
    "name": "ipython",
    "version": 3
   },
   "file_extension": ".py",
   "mimetype": "text/x-python",
   "name": "python",
   "nbconvert_exporter": "python",
   "pygments_lexer": "ipython3",
   "version": "3.8.12"
  }
 },
 "nbformat": 4,
 "nbformat_minor": 5
}
