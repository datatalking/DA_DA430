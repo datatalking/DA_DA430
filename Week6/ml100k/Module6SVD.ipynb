{
 "cells": [
  {
   "cell_type": "code",
   "execution_count": 25,
   "id": "43fa1c54",
   "metadata": {},
   "outputs": [
    {
     "name": "stdout",
     "output_type": "stream",
     "text": [
      "Requirement already satisfied: surprise in /Users/vanessawilson/.conda/envs/Analyzing_Alpha/lib/python3.7/site-packages (0.1)\r\n",
      "Requirement already satisfied: scikit-surprise in /Users/vanessawilson/.conda/envs/Analyzing_Alpha/lib/python3.7/site-packages (from surprise) (1.1.1)\r\n",
      "Requirement already satisfied: scipy>=1.0.0 in /Users/vanessawilson/.conda/envs/Analyzing_Alpha/lib/python3.7/site-packages (from scikit-surprise->surprise) (1.7.1)\r\n",
      "Requirement already satisfied: numpy>=1.11.2 in /Users/vanessawilson/.conda/envs/Analyzing_Alpha/lib/python3.7/site-packages (from scikit-surprise->surprise) (1.21.2)\r\n",
      "Requirement already satisfied: joblib>=0.11 in /Users/vanessawilson/.conda/envs/Analyzing_Alpha/lib/python3.7/site-packages (from scikit-surprise->surprise) (1.1.0)\r\n",
      "Requirement already satisfied: six>=1.10.0 in /Users/vanessawilson/.conda/envs/Analyzing_Alpha/lib/python3.7/site-packages (from scikit-surprise->surprise) (1.16.0)\r\n"
     ]
    }
   ],
   "source": [
    "#Source from https://surprise.readthedocs.io/en/stable/getting_started.html\n",
    "\n",
    "###install surprise with Conda http://surpriselib.com/\n",
    "###$ conda install -c conda-forge scikit-surprise\n",
    "!pip3 install surprise\n",
    "\n",
    "from surprise import Reader, Dataset\n",
    "# Define the format\n",
    "reader = Reader(line_format='user item rating timestamp', sep='\\t')\n",
    "# Load the data from the file using the reader format\n",
    "data = Dataset.load_from_file('u.data', reader=reader)"
   ]
  },
  {
   "cell_type": "code",
   "execution_count": 26,
   "id": "4623e4d4",
   "metadata": {},
   "outputs": [],
   "source": [
    "# Split data into 5 folds\n",
    "from surprise.model_selection import KFold\n",
    "\n",
    "kf = KFold(n_splits=5).split(data)"
   ]
  },
  {
   "cell_type": "code",
   "execution_count": 27,
   "id": "aafa9379",
   "metadata": {},
   "outputs": [
    {
     "name": "stdout",
     "output_type": "stream",
     "text": [
      "Evaluating RMSE, MAE of algorithm SVD on 5 split(s).\n",
      "\n",
      "                  Fold 1  Fold 2  Fold 3  Fold 4  Fold 5  Mean    Std     \n",
      "RMSE (testset)    0.9407  0.9307  0.9308  0.9401  0.9383  0.9361  0.0045  \n",
      "MAE (testset)     0.7388  0.7350  0.7356  0.7406  0.7409  0.7382  0.0025  \n",
      "Fit time          4.82    4.57    4.79    4.95    4.60    4.75    0.14    \n",
      "Test time         0.14    0.14    0.24    0.13    0.23    0.18    0.05    \n"
     ]
    },
    {
     "data": {
      "text/plain": "{'test_rmse': array([0.94070786, 0.93070723, 0.93084015, 0.94013839, 0.93829666]),\n 'test_mae': array([0.73875333, 0.7350196 , 0.73558319, 0.74061764, 0.7408604 ]),\n 'fit_time': (4.8244969844818115,\n  4.568716764450073,\n  4.788949966430664,\n  4.945480108261108,\n  4.604846954345703),\n 'test_time': (0.14163613319396973,\n  0.1360011100769043,\n  0.24250197410583496,\n  0.13345694541931152,\n  0.23020720481872559)}"
     },
     "execution_count": 27,
     "metadata": {},
     "output_type": "execute_result"
    }
   ],
   "source": [
    "from surprise import SVD\n",
    "from surprise import Dataset\n",
    "from surprise.model_selection import cross_validate\n",
    "\n",
    "# Load the dataset (download it if needed)\n",
    "#data = Dataset.load_builtin('ml-100k')\n",
    "\n",
    "# Use the famous SVD algorithm\n",
    "algo = SVD(n_factors=100)\n",
    "\n",
    "# Run 5-fold cross-validation and then print results\n",
    "cross_validate(algo, data, measures=['RMSE', 'MAE'], cv=5, verbose=True)\n"
   ]
  },
  {
   "cell_type": "code",
   "execution_count": 28,
   "id": "1559fc66",
   "metadata": {},
   "outputs": [
    {
     "data": {
      "text/plain": "<surprise.prediction_algorithms.matrix_factorization.SVD at 0x7f82f8bd22e8>"
     },
     "execution_count": 28,
     "metadata": {},
     "output_type": "execute_result"
    }
   ],
   "source": [
    "from surprise import SVD\n",
    "from surprise import Dataset\n",
    "from surprise.model_selection import cross_validate\n",
    "# # Retrieve the trainset.\n",
    "algo = SVD(n_factors=100)\n",
    "trainset = data.build_full_trainset()\n",
    "algo.fit(trainset)\n"
   ]
  },
  {
   "cell_type": "code",
   "execution_count": 36,
   "id": "81386b9c",
   "metadata": {},
   "outputs": [
    {
     "name": "stdout",
     "output_type": "stream",
     "text": [
      "user: 3          item: 5          r_ui = 3.00   est = 2.77   {'was_impossible': False}\n"
     ]
    }
   ],
   "source": [
    "uid = str(3)  # raw user id (as in the ratings file). They are **strings**!\n",
    "iid = str(5)  # raw item id (as in the ratings file). They are **strings**!\n",
    "\n",
    "# get a prediction for specific users and items.\n",
    "pred = algo.predict(uid, iid, r_ui=3, verbose=True)\n"
   ]
  },
  {
   "cell_type": "code",
   "execution_count": 30,
   "id": "da32c457",
   "metadata": {
    "scrolled": false
   },
   "outputs": [
    {
     "name": "stdout",
     "output_type": "stream",
     "text": [
      "(943, 100)\n",
      "(1682, 100)\n"
     ]
    }
   ],
   "source": [
    "print(algo.pu.shape)                                                                \n",
    "print(algo.qi.shape)  "
   ]
  },
  {
   "cell_type": "code",
   "execution_count": 31,
   "id": "d1b571e0",
   "metadata": {},
   "outputs": [
    {
     "data": {
      "text/plain": "array([[-0.20782376,  0.16701034,  0.0713562 , ...,  0.05728906,\n        -0.05791818, -0.11910584],\n       [-0.04130327, -0.14112139,  0.41650699, ...,  0.17870913,\n         0.09137295, -0.0791822 ],\n       [-0.13763758,  0.08548711, -0.30781445, ..., -0.10343329,\n        -0.46309501,  0.17385415],\n       ...,\n       [-0.07654099, -0.39594754,  0.11398378, ..., -0.01376958,\n         0.06341593, -0.08565521],\n       [ 0.01786627, -0.12186747,  0.02332289, ...,  0.04493889,\n         0.09358293, -0.07351309],\n       [-0.07864939, -0.11304958, -0.02869352, ...,  0.10446669,\n         0.07584994,  0.06501963]])"
     },
     "execution_count": 31,
     "metadata": {},
     "output_type": "execute_result"
    }
   ],
   "source": [
    "algo.pu"
   ]
  },
  {
   "cell_type": "code",
   "execution_count": 32,
   "id": "1f8f8d03",
   "metadata": {},
   "outputs": [
    {
     "data": {
      "text/plain": "(943, 100)"
     },
     "execution_count": 32,
     "metadata": {},
     "output_type": "execute_result"
    }
   ],
   "source": [
    "algo.pu.shape"
   ]
  },
  {
   "cell_type": "code",
   "execution_count": 33,
   "id": "e1c2d30b",
   "metadata": {},
   "outputs": [
    {
     "data": {
      "text/plain": "(1682, 100)"
     },
     "execution_count": 33,
     "metadata": {},
     "output_type": "execute_result"
    }
   ],
   "source": [
    "algo.qi.shape"
   ]
  },
  {
   "cell_type": "code",
   "execution_count": 33,
   "id": "bafd7990",
   "metadata": {},
   "outputs": [],
   "source": []
  }
 ],
 "metadata": {
  "kernelspec": {
   "display_name": "Python 3 (ipykernel)",
   "language": "python",
   "name": "python3"
  },
  "language_info": {
   "codemirror_mode": {
    "name": "ipython",
    "version": 3
   },
   "file_extension": ".py",
   "mimetype": "text/x-python",
   "name": "python",
   "nbconvert_exporter": "python",
   "pygments_lexer": "ipython3",
   "version": "3.7.10"
  }
 },
 "nbformat": 4,
 "nbformat_minor": 5
}