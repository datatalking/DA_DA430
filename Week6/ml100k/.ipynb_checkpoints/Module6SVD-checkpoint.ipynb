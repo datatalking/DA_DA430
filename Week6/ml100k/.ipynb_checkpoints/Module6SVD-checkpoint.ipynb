{
 "cells": [
  {
   "cell_type": "code",
   "execution_count": null,
   "id": "43fa1c54",
   "metadata": {},
   "outputs": [],
   "source": [
    "#Source from https://surprise.readthedocs.io/en/stable/getting_started.html\n",
    "\n",
    "###install surprise with Conda http://surpriselib.com/\n",
    "###$ conda install -c conda-forge scikit-surprise\n",
    "\n",
    "from surprise import Reader, Dataset\n",
    "# Define the format\n",
    "reader = Reader(line_format='user item rating timestamp', sep='\\t')\n",
    "# Load the data from the file using the reader format\n",
    "data = Dataset.load_from_file('./ml-100k/u.data', reader=reader)"
   ]
  },
  {
   "cell_type": "code",
   "execution_count": null,
   "id": "4623e4d4",
   "metadata": {},
   "outputs": [],
   "source": [
    "# Split data into 5 folds\n",
    "from surprise.model_selection import KFold\n",
    "\n",
    "kf = KFold(n_splits=5).split(data)"
   ]
  },
  {
   "cell_type": "code",
   "execution_count": null,
   "id": "aafa9379",
   "metadata": {},
   "outputs": [],
   "source": [
    "from surprise import SVD\n",
    "from surprise import Dataset\n",
    "from surprise.model_selection import cross_validate\n",
    "\n",
    "# Load the dataset (download it if needed)\n",
    "#data = Dataset.load_builtin('ml-100k')\n",
    "\n",
    "# Use the famous SVD algorithm\n",
    "algo = SVD(n_factors=100)\n",
    "\n",
    "# Run 5-fold cross-validation and then print results\n",
    "cross_validate(algo, data, measures=['RMSE', 'MAE'], cv=5, verbose=True)\n"
   ]
  },
  {
   "cell_type": "code",
   "execution_count": null,
   "id": "1559fc66",
   "metadata": {},
   "outputs": [],
   "source": [
    "from surprise import SVD\n",
    "from surprise import Dataset\n",
    "from surprise.model_selection import cross_validate\n",
    "# # Retrieve the trainset.\n",
    "algo = SVD(n_factors=100)\n",
    "trainset = data.build_full_trainset()\n",
    "algo.fit(trainset)\n"
   ]
  },
  {
   "cell_type": "code",
   "execution_count": null,
   "id": "81386b9c",
   "metadata": {},
   "outputs": [],
   "source": [
    "uid = str(196)  # raw user id (as in the ratings file). They are **strings**!\n",
    "iid = str(302)  # raw item id (as in the ratings file). They are **strings**!\n",
    "\n",
    "# get a prediction for specific users and items.\n",
    "pred = algo.predict(uid, iid, r_ui=4, verbose=True)\n"
   ]
  },
  {
   "cell_type": "code",
   "execution_count": null,
   "id": "da32c457",
   "metadata": {
    "scrolled": false
   },
   "outputs": [],
   "source": [
    "print(algo.pu.shape)                                                                \n",
    "print(algo.qi.shape)  "
   ]
  },
  {
   "cell_type": "code",
   "execution_count": null,
   "id": "d1b571e0",
   "metadata": {},
   "outputs": [],
   "source": [
    "algo.pu"
   ]
  },
  {
   "cell_type": "code",
   "execution_count": null,
   "id": "1f8f8d03",
   "metadata": {},
   "outputs": [],
   "source": [
    "algo.pu.shape"
   ]
  },
  {
   "cell_type": "code",
   "execution_count": null,
   "id": "e1c2d30b",
   "metadata": {},
   "outputs": [],
   "source": [
    "algo.qi.shape"
   ]
  },
  {
   "cell_type": "code",
   "execution_count": null,
   "id": "bafd7990",
   "metadata": {},
   "outputs": [],
   "source": []
  }
 ],
 "metadata": {
  "kernelspec": {
   "display_name": "Python 3 (ipykernel)",
   "language": "python",
   "name": "python3"
  },
  "language_info": {
   "codemirror_mode": {
    "name": "ipython",
    "version": 3
   },
   "file_extension": ".py",
   "mimetype": "text/x-python",
   "name": "python",
   "nbconvert_exporter": "python",
   "pygments_lexer": "ipython3",
   "version": "3.7.10"
  }
 },
 "nbformat": 4,
 "nbformat_minor": 5
}
