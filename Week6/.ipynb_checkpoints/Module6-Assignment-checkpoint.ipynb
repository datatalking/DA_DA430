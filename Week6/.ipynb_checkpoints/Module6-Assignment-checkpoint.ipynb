{
 "cells": [
  {
   "cell_type": "code",
   "execution_count": 5,
   "id": "e11f0d21",
   "metadata": {},
   "outputs": [],
   "source": [
    "import pandas as pd\n",
    "ratings_data = pd.read_csv('/Users/vanessawilson/sbox/Curriculum/DA_DA430/Week6/wk6assignment_null.csv')\n",
    "from surprise import SVD\n",
    "from surprise.model_selection import cross_validate\n",
    "from surprise import Dataset\n",
    "from surprise import Reader\n",
    "reader = Reader(rating_scale=(0, 5))\n",
    "data = Dataset.load_from_df(ratings_data[['userid', 'itemid', 'rating']], reader)\n",
    "algo = SVD(n_factors=100)"
   ]
  },
  {
   "cell_type": "code",
   "execution_count": 6,
   "id": "03377d3d",
   "metadata": {},
   "outputs": [
    {
     "name": "stdout",
     "output_type": "stream",
     "text": [
      "Evaluating RMSE, MAE of algorithm SVD on 5 split(s).\n",
      "\n",
      "                  Fold 1  Fold 2  Fold 3  Fold 4  Fold 5  Mean    Std     \n",
      "RMSE (testset)    1.3291  1.3315  0.9652  1.0326  1.2727  1.1862  0.1559  \n",
      "MAE (testset)     1.0992  1.1185  0.8268  0.8582  1.0997  1.0005  0.1296  \n",
      "Fit time          0.00    0.00    0.00    0.00    0.00    0.00    0.00    \n",
      "Test time         0.00    0.00    0.00    0.00    0.00    0.00    0.00    \n",
      "user: 3          item: 5          r_ui = 3.00   est = 2.58   {'was_impossible': False}\n"
     ]
    }
   ],
   "source": [
    "from surprise.model_selection import cross_validate\n",
    "# # Retrieve the trainset.\n",
    "\n",
    "algo = SVD(n_factors=100)\n",
    "# Run 5-fold cross-validation and then print results\n",
    "cross_validate(algo, data, measures=['RMSE', 'MAE'], cv=5, verbose=True)\n",
    "\n",
    "trainset = data.build_full_trainset()\n",
    "algo.fit(trainset)\n",
    "\n",
    "uid = str(3)  # raw user id (as in the ratings file). They are **strings**!\n",
    "iid = str(5)  # raw item id (as in the ratings file). They are **strings**!\n",
    "\n",
    "# get a prediction for specific users and items.\n",
    "pred = algo.predict(uid, iid, r_ui=3, verbose=True)\n"
   ]
  }
 ],
 "metadata": {
  "kernelspec": {
   "display_name": "Python 3 (ipykernel)",
   "language": "python",
   "name": "python3"
  },
  "language_info": {
   "codemirror_mode": {
    "name": "ipython",
    "version": 3
   },
   "file_extension": ".py",
   "mimetype": "text/x-python",
   "name": "python",
   "nbconvert_exporter": "python",
   "pygments_lexer": "ipython3",
   "version": "3.7.10"
  }
 },
 "nbformat": 4,
 "nbformat_minor": 5
}