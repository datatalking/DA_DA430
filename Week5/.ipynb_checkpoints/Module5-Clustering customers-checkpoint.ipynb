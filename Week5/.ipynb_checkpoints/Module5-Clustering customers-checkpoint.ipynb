{
 "cells": [
  {
   "cell_type": "code",
   "execution_count": null,
   "id": "4bd28a30",
   "metadata": {
    "pycharm": {
     "is_executing": true
    }
   },
   "outputs": [],
   "source": [
    "import pandas as pd\n",
    "\n",
    "xls = pd.ExcelFile(\"/Users/vanessawilson/sbox/Curriculum/DA_DA430/Week5/online_retail_II.xlsx\")\n",
    "# xls = pd.ExcelFile(\"/Users/kunzhao/Downloads/online_retail_II.xlsx\")\n",
    "df = pd.read_excel(xls, 'Year 2009-2010')"
   ]
  },
  {
   "cell_type": "code",
   "execution_count": null,
   "id": "3f29bd39",
   "metadata": {
    "pycharm": {
     "is_executing": true
    }
   },
   "outputs": [],
   "source": [
    "print(df.shape)"
   ]
  },
  {
   "cell_type": "code",
   "execution_count": null,
   "id": "874c8c26",
   "metadata": {
    "pycharm": {
     "is_executing": true
    }
   },
   "outputs": [],
   "source": [
    "df=df[~df['Customer ID'].isna()]"
   ]
  },
  {
   "cell_type": "code",
   "execution_count": null,
   "id": "54e1b26d",
   "metadata": {
    "pycharm": {
     "is_executing": true
    }
   },
   "outputs": [],
   "source": [
    "df.shape"
   ]
  },
  {
   "cell_type": "code",
   "execution_count": null,
   "id": "22b558c7",
   "metadata": {
    "pycharm": {
     "is_executing": true
    }
   },
   "outputs": [],
   "source": [
    "df.isna().sum()"
   ]
  },
  {
   "cell_type": "code",
   "execution_count": null,
   "id": "70edacce",
   "metadata": {
    "pycharm": {
     "is_executing": true
    }
   },
   "outputs": [],
   "source": [
    "df['Amount']=df['Quantity']*df['Price']"
   ]
  },
  {
   "cell_type": "code",
   "execution_count": null,
   "id": "809070da",
   "metadata": {
    "pycharm": {
     "is_executing": true
    }
   },
   "outputs": [],
   "source": [
    "df.head()"
   ]
  },
  {
   "cell_type": "code",
   "execution_count": null,
   "id": "b62b21b5",
   "metadata": {
    "pycharm": {
     "is_executing": true
    }
   },
   "outputs": [],
   "source": [
    "each_customer=df.groupby('Customer ID')['Amount'].sum().reset_index()"
   ]
  },
  {
   "cell_type": "code",
   "execution_count": null,
   "id": "aa093f35",
   "metadata": {
    "pycharm": {
     "is_executing": true
    }
   },
   "outputs": [],
   "source": [
    "each_customer.head()"
   ]
  },
  {
   "cell_type": "code",
   "execution_count": null,
   "id": "d5a778e1",
   "metadata": {
    "pycharm": {
     "is_executing": true
    }
   },
   "outputs": [],
   "source": [
    "each_customer_freq=df.groupby('Customer ID')['Invoice'].count().reset_index()"
   ]
  },
  {
   "cell_type": "code",
   "execution_count": null,
   "id": "1e453a33",
   "metadata": {
    "pycharm": {
     "is_executing": true
    }
   },
   "outputs": [],
   "source": [
    "customer_details= pd.merge(each_customer_freq, each_customer, on='Customer ID')"
   ]
  },
  {
   "cell_type": "code",
   "execution_count": null,
   "id": "5ea6a06f",
   "metadata": {
    "pycharm": {
     "is_executing": true
    }
   },
   "outputs": [],
   "source": [
    "df.dtypes"
   ]
  },
  {
   "cell_type": "code",
   "execution_count": null,
   "id": "7aadb6b5",
   "metadata": {
    "pycharm": {
     "is_executing": true
    }
   },
   "outputs": [],
   "source": [
    "max_date=max(df['InvoiceDate'])\n",
    "print(max_date)"
   ]
  },
  {
   "cell_type": "code",
   "execution_count": null,
   "id": "b8a35be9",
   "metadata": {
    "pycharm": {
     "is_executing": true
    }
   },
   "outputs": [],
   "source": [
    "df['recency']= max_date-df['InvoiceDate']\n",
    "print(df.head())"
   ]
  },
  {
   "cell_type": "code",
   "execution_count": null,
   "id": "ef984321",
   "metadata": {
    "pycharm": {
     "is_executing": true
    }
   },
   "outputs": [],
   "source": [
    "dates=df.groupby('Customer ID')['recency'].min().reset_index()\n",
    "print(dates)"
   ]
  },
  {
   "cell_type": "markdown",
   "id": "e457aa3d",
   "metadata": {},
   "source": [
    "<!---\n",
    "your comment goes here\n",
    "and here\n",
    "-->"
   ]
  },
  {
   "cell_type": "code",
   "execution_count": null,
   "id": "51079c83",
   "metadata": {
    "pycharm": {
     "is_executing": true
    }
   },
   "outputs": [],
   "source": [
    "import datetime as dt\n",
    "dates['recency']= dates['recency'].dt.days"
   ]
  },
  {
   "cell_type": "code",
   "execution_count": null,
   "id": "6a0818a7",
   "metadata": {
    "pycharm": {
     "is_executing": true
    },
    "scrolled": true
   },
   "outputs": [],
   "source": [
    "dates"
   ]
  },
  {
   "cell_type": "code",
   "execution_count": null,
   "id": "41a6843a",
   "metadata": {
    "pycharm": {
     "is_executing": true
    }
   },
   "outputs": [],
   "source": [
    "customer_details= pd.merge(customer_details, dates, on='Customer ID')\n",
    "customer_details"
   ]
  },
  {
   "cell_type": "code",
   "execution_count": null,
   "id": "88d758b9",
   "metadata": {
    "pycharm": {
     "is_executing": true
    }
   },
   "outputs": [],
   "source": [
    "z=customer_details.Amount.quantile(0.05)\n",
    "y=customer_details.Amount.quantile(0.95)\n",
    "iqr=y-z"
   ]
  },
  {
   "cell_type": "code",
   "execution_count": null,
   "id": "e622a215",
   "metadata": {
    "pycharm": {
     "is_executing": true
    }
   },
   "outputs": [],
   "source": [
    "customer_details= customer_details[(customer_details['Amount']>=z-1.5*iqr) & (customer_details['Amount']<=y+1.5*iqr)]"
   ]
  },
  {
   "cell_type": "code",
   "execution_count": null,
   "id": "61f6b5a7",
   "metadata": {
    "pycharm": {
     "is_executing": true
    }
   },
   "outputs": [],
   "source": [
    "customer_details.shape"
   ]
  },
  {
   "cell_type": "code",
   "execution_count": null,
   "id": "aa1abf81",
   "metadata": {
    "pycharm": {
     "is_executing": true
    }
   },
   "outputs": [],
   "source": [
    "q1=customer_details.Invoice.quantile(0.05)\n",
    "q3=customer_details.Invoice.quantile(0.95)\n",
    "iqr=q3-q1\n",
    "customer_details= customer_details[(customer_details['Invoice']>=q1-1.5*iqr) & (customer_details['Invoice']<=q3+1.5*iqr)]"
   ]
  },
  {
   "cell_type": "code",
   "execution_count": null,
   "id": "d60db3fa",
   "metadata": {
    "pycharm": {
     "is_executing": true
    }
   },
   "outputs": [],
   "source": [
    "q1=customer_details.recency.quantile(0.05)\n",
    "q3=customer_details.recency.quantile(0.95)\n",
    "iqr=q3-q1\n",
    "customer_details= customer_details[(customer_details['recency']>=q1-1.5*iqr) & (customer_details['recency']<=q3+1.5*iqr)]"
   ]
  },
  {
   "cell_type": "code",
   "execution_count": null,
   "id": "10a4459e",
   "metadata": {
    "pycharm": {
     "is_executing": true
    }
   },
   "outputs": [],
   "source": [
    "customer_details.shape"
   ]
  },
  {
   "cell_type": "code",
   "execution_count": null,
   "id": "074fb0d2",
   "metadata": {
    "pycharm": {
     "is_executing": true
    }
   },
   "outputs": [],
   "source": [
    "from sklearn.preprocessing import StandardScaler"
   ]
  },
  {
   "cell_type": "code",
   "execution_count": null,
   "id": "f02de9d6",
   "metadata": {
    "pycharm": {
     "is_executing": true
    }
   },
   "outputs": [],
   "source": [
    "scc=StandardScaler()\n",
    "scaled=scc.fit_transform(customer_details[['Invoice', 'Amount','recency']])\n",
    "scaled.shape"
   ]
  },
  {
   "cell_type": "code",
   "execution_count": null,
   "id": "12c16c25",
   "metadata": {
    "pycharm": {
     "is_executing": true
    }
   },
   "outputs": [],
   "source": [
    "scaled_values=pd.DataFrame(scaled)\n",
    "scaled_values.columns=['Invoice', 'Amount', 'recency']\n",
    "scaled_values"
   ]
  },
  {
   "cell_type": "code",
   "execution_count": null,
   "id": "10d0669f",
   "metadata": {
    "pycharm": {
     "is_executing": true
    }
   },
   "outputs": [],
   "source": [
    "from sklearn.cluster import KMeans\n",
    "scores=[]\n",
    "for i in range(2,7): \n",
    "    kmeans=KMeans(n_clusters=i, max_iter=40, verbose=True).fit(scaled_values)\n",
    "    scores.append(kmeans.inertia_)"
   ]
  },
  {
   "cell_type": "code",
   "execution_count": null,
   "id": "2c73dbce",
   "metadata": {
    "pycharm": {
     "is_executing": true
    }
   },
   "outputs": [],
   "source": [
    "len(scores)"
   ]
  },
  {
   "cell_type": "code",
   "execution_count": null,
   "id": "ed18e8eb",
   "metadata": {
    "pycharm": {
     "is_executing": true
    }
   },
   "outputs": [],
   "source": [
    "scores"
   ]
  },
  {
   "cell_type": "code",
   "execution_count": null,
   "id": "a572c089",
   "metadata": {
    "pycharm": {
     "is_executing": true
    }
   },
   "outputs": [],
   "source": [
    "import matplotlib.pyplot as plt\n",
    "plt.plot(range(2,7,1), scores)\n",
    "plt.xticks(ticks=range(2,7))\n",
    "plt.show()"
   ]
  },
  {
   "cell_type": "code",
   "execution_count": null,
   "id": "0d0f77bb",
   "metadata": {
    "pycharm": {
     "is_executing": true
    }
   },
   "outputs": [],
   "source": [
    "from sklearn.metrics import silhouette_score\n",
    "for i in range(2,7):\n",
    "    kmeans=KMeans(n_clusters=i, max_iter=40).fit(scaled_values)\n",
    "    cluster_labels=kmeans.labels_\n",
    "    silhaoutte_avg=silhouette_score(scaled_values, cluster_labels)\n",
    "    print('For n_cluster{} the silhaoutte scores is {}'.format(i, silhaoutte_avg))"
   ]
  },
  {
   "cell_type": "code",
   "execution_count": null,
   "id": "9e301c02",
   "metadata": {
    "pycharm": {
     "is_executing": true
    }
   },
   "outputs": [],
   "source": [
    "kmeans=KMeans(n_clusters=3, max_iter=50).fit(scaled_values)\n",
    "clusters=kmeans.labels_"
   ]
  },
  {
   "cell_type": "code",
   "execution_count": null,
   "id": "fb48e004",
   "metadata": {
    "pycharm": {
     "is_executing": true
    }
   },
   "outputs": [],
   "source": [
    "customer_details['Cluster']=clusters\n",
    "customer_details"
   ]
  },
  {
   "cell_type": "code",
   "execution_count": null,
   "id": "b25bddad",
   "metadata": {
    "pycharm": {
     "is_executing": true
    }
   },
   "outputs": [],
   "source": [
    "!pip3 install seaborn\n",
    "import seaborn as sns\n",
    "sns.boxplot(x='Cluster', y='Amount', data=customer_details)\n",
    "plt.show()"
   ]
  },
  {
   "cell_type": "code",
   "execution_count": null,
   "id": "57cacec0",
   "metadata": {
    "pycharm": {
     "is_executing": true
    }
   },
   "outputs": [],
   "source": [
    "sns.boxplot(x='Cluster', y='recency', data=customer_details)\n",
    "plt.show()"
   ]
  },
  {
   "cell_type": "code",
   "execution_count": null,
   "id": "44137f81",
   "metadata": {
    "pycharm": {
     "is_executing": true
    }
   },
   "outputs": [],
   "source": [
    "sns.boxplot(x='Cluster', y='Invoice', data=customer_details)\n",
    "plt.show()"
   ]
  },
  {
   "cell_type": "code",
   "execution_count": null,
   "id": "25443829",
   "metadata": {
    "pycharm": {
     "is_executing": true
    }
   },
   "outputs": [],
   "source": []
  },
  {
   "cell_type": "code",
   "execution_count": null,
   "id": "c5098af7",
   "metadata": {
    "pycharm": {
     "is_executing": true
    }
   },
   "outputs": [],
   "source": []
  }
 ],
 "metadata": {
  "kernelspec": {
   "display_name": "Python 3 (ipykernel)",
   "language": "python",
   "name": "python3"
  },
  "language_info": {
   "codemirror_mode": {
    "name": "ipython",
    "version": 3
   },
   "file_extension": ".py",
   "mimetype": "text/x-python",
   "name": "python",
   "nbconvert_exporter": "python",
   "pygments_lexer": "ipython3",
   "version": "3.7.10"
  }
 },
 "nbformat": 4,
 "nbformat_minor": 5
}
