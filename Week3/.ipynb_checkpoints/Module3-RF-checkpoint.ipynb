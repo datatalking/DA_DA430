{
 "cells": [
  {
   "cell_type": "code",
   "execution_count": 1,
   "id": "b727217d",
   "metadata": {
    "scrolled": true
   },
   "outputs": [
    {
     "name": "stdout",
     "output_type": "stream",
     "text": [
      "Requirement already satisfied: rfpimp==1.3.7 in /Users/vanessawilson/.conda/envs/DA_DA430/lib/python3.8/site-packages (1.3.7)\n",
      "\u001b[31mERROR: Could not find a version that satisfies the requirement as (from versions: none)\u001b[0m\n",
      "\u001b[31mERROR: No matching distribution found for as\u001b[0m\n",
      "Requirement already satisfied: pandas in /Users/vanessawilson/.conda/envs/DA_DA430/lib/python3.8/site-packages (1.3.4)\n",
      "Requirement already satisfied: python-dateutil>=2.7.3 in /Users/vanessawilson/.conda/envs/DA_DA430/lib/python3.8/site-packages (from pandas) (2.8.2)\n",
      "Requirement already satisfied: pytz>=2017.3 in /Users/vanessawilson/.conda/envs/DA_DA430/lib/python3.8/site-packages (from pandas) (2021.3)\n",
      "Requirement already satisfied: numpy>=1.17.3 in /Users/vanessawilson/.conda/envs/DA_DA430/lib/python3.8/site-packages (from pandas) (1.21.2)\n",
      "Requirement already satisfied: six>=1.5 in /Users/vanessawilson/.conda/envs/DA_DA430/lib/python3.8/site-packages (from python-dateutil>=2.7.3->pandas) (1.16.0)\n",
      "\u001b[31mERROR: Could not find a version that satisfies the requirement sklearn.ensemble (from versions: none)\u001b[0m\n",
      "\u001b[31mERROR: No matching distribution found for sklearn.ensemble\u001b[0m\n",
      "\u001b[31mERROR: Could not find a version that satisfies the requirement sklearn.model_selection (from versions: none)\u001b[0m\n",
      "\u001b[31mERROR: No matching distribution found for sklearn.model_selection\u001b[0m\n",
      "Requirement already satisfied: scikit-learn==0.22.2 in /Users/vanessawilson/.conda/envs/DA_DA430/lib/python3.8/site-packages (0.22.2)\n",
      "Requirement already satisfied: joblib>=0.11 in /Users/vanessawilson/.conda/envs/DA_DA430/lib/python3.8/site-packages (from scikit-learn==0.22.2) (1.1.0)\n",
      "Requirement already satisfied: scipy>=0.17.0 in /Users/vanessawilson/.conda/envs/DA_DA430/lib/python3.8/site-packages (from scikit-learn==0.22.2) (1.7.1)\n",
      "Requirement already satisfied: numpy>=1.11.0 in /Users/vanessawilson/.conda/envs/DA_DA430/lib/python3.8/site-packages (from scikit-learn==0.22.2) (1.21.2)\n"
     ]
    },
    {
     "name": "stderr",
     "output_type": "stream",
     "text": [
      "/Users/vanessawilson/.conda/envs/Analyzing_Alpha/lib/python3.7/site-packages/sklearn/utils/deprecation.py:144: FutureWarning: The sklearn.ensemble.forest module is  deprecated in version 0.22 and will be removed in version 0.24. The corresponding classes / functions should instead be imported from sklearn.ensemble. Anything that cannot be imported from sklearn.ensemble is now part of the private API.\n",
      "  warnings.warn(message, FutureWarning)\n"
     ]
    }
   ],
   "source": [
    "get_ipython().system(\"pip install 'rfpimp==1.3.7' as rfpimp\")\n",
    "get_ipython().system('pip install pandas')\n",
    "get_ipython().system('pip install sklearn.ensemble')\n",
    "get_ipython().system('pip install sklearn.model_selection')\n",
    "get_ipython().system(\"pip install 'scikit-learn==0.22.2'\")\n",
    "\n",
    "\n",
    "from rfpimp import importances, plot_importances\n",
    "import pandas as pd\n",
    "from sklearn.ensemble import RandomForestRegressor, RandomForestClassifier\n",
    "from sklearn.model_selection import train_test_split\n",
    "\n",
    "df_orig = pd.read_csv(\"/Users/vanessawilson/sbox/Curriculum/DA_DA430/rent.csv\")\n"
   ]
  },
  {
   "cell_type": "code",
   "execution_count": 2,
   "id": "da305a01",
   "metadata": {},
   "outputs": [],
   "source": [
    "import numpy as np\n",
    "df = df_orig.copy()\n",
    "\n",
    "# attentuate affect of outliers in price\n",
    "df['price'] = np.log(df['price'])\n"
   ]
  },
  {
   "cell_type": "code",
   "execution_count": 3,
   "id": "f3a39f41",
   "metadata": {},
   "outputs": [
    {
     "data": {
      "text/html": [
       "<div>\n",
       "<style scoped>\n",
       "    .dataframe tbody tr th:only-of-type {\n",
       "        vertical-align: middle;\n",
       "    }\n",
       "\n",
       "    .dataframe tbody tr th {\n",
       "        vertical-align: top;\n",
       "    }\n",
       "\n",
       "    .dataframe thead th {\n",
       "        text-align: right;\n",
       "    }\n",
       "</style>\n",
       "<table border=\"1\" class=\"dataframe\">\n",
       "  <thead>\n",
       "    <tr style=\"text-align: right;\">\n",
       "      <th></th>\n",
       "      <th>bathrooms</th>\n",
       "      <th>bedrooms</th>\n",
       "      <th>price</th>\n",
       "      <th>longitude</th>\n",
       "      <th>latitude</th>\n",
       "      <th>interest_level</th>\n",
       "    </tr>\n",
       "  </thead>\n",
       "  <tbody>\n",
       "    <tr>\n",
       "      <th>0</th>\n",
       "      <td>1.5</td>\n",
       "      <td>3</td>\n",
       "      <td>8.006368</td>\n",
       "      <td>-73.9425</td>\n",
       "      <td>40.7145</td>\n",
       "      <td>2</td>\n",
       "    </tr>\n",
       "    <tr>\n",
       "      <th>1</th>\n",
       "      <td>1.0</td>\n",
       "      <td>2</td>\n",
       "      <td>8.606119</td>\n",
       "      <td>-73.9667</td>\n",
       "      <td>40.7947</td>\n",
       "      <td>1</td>\n",
       "    </tr>\n",
       "    <tr>\n",
       "      <th>2</th>\n",
       "      <td>1.0</td>\n",
       "      <td>1</td>\n",
       "      <td>7.955074</td>\n",
       "      <td>-74.0018</td>\n",
       "      <td>40.7388</td>\n",
       "      <td>3</td>\n",
       "    </tr>\n",
       "    <tr>\n",
       "      <th>3</th>\n",
       "      <td>1.0</td>\n",
       "      <td>1</td>\n",
       "      <td>8.094073</td>\n",
       "      <td>-73.9677</td>\n",
       "      <td>40.7539</td>\n",
       "      <td>1</td>\n",
       "    </tr>\n",
       "    <tr>\n",
       "      <th>4</th>\n",
       "      <td>1.0</td>\n",
       "      <td>4</td>\n",
       "      <td>8.116716</td>\n",
       "      <td>-73.9493</td>\n",
       "      <td>40.8241</td>\n",
       "      <td>1</td>\n",
       "    </tr>\n",
       "  </tbody>\n",
       "</table>\n",
       "</div>"
      ],
      "text/plain": [
       "   bathrooms  bedrooms     price  longitude  latitude  interest_level\n",
       "0        1.5         3  8.006368   -73.9425   40.7145               2\n",
       "1        1.0         2  8.606119   -73.9667   40.7947               1\n",
       "2        1.0         1  7.955074   -74.0018   40.7388               3\n",
       "3        1.0         1  8.094073   -73.9677   40.7539               1\n",
       "4        1.0         4  8.116716   -73.9493   40.8241               1"
      ]
     },
     "execution_count": 3,
     "metadata": {},
     "output_type": "execute_result"
    }
   ],
   "source": [
    "df.head()"
   ]
  },
  {
   "cell_type": "code",
   "execution_count": 4,
   "id": "10b6bb2f",
   "metadata": {},
   "outputs": [
    {
     "data": {
      "image/png": "[encoded data removed]",
      "text/plain": [
       "<Figure size 288x108 with 1 Axes>"
      ]
     },
     "metadata": {
      "needs_background": "light"
     },
     "output_type": "display_data"
    }
   ],
   "source": [
    "df_train, df_test = train_test_split(df_orig, test_size=0.20)\n",
    "features = ['bathrooms','bedrooms','price','longitude','latitude',\n",
    "            'interest_level']\n",
    "df_train = df_train[features]\n",
    "df_test = df_test[features]\n",
    "\n",
    "X_train, y_train = df_train.drop('interest_level',axis=1), df_train['interest_level']\n",
    "X_test, y_test = df_test.drop('interest_level',axis=1), df_test['interest_level']\n",
    "# Add column of random numbers\n",
    "X_train['random'] = np.random.random(size=len(X_train))\n",
    "X_test['random'] = np.random.random(size=len(X_test))\n",
    "\n",
    "rf = RandomForestClassifier(n_estimators=100,min_samples_leaf=5,n_jobs=-1,oob_score=True)\n",
    "rf.fit(X_train, y_train)\n",
    "\n",
    "imp = importances(rf, X_test, y_test, n_samples=-1)\n",
    "viz = plot_importances(imp)\n",
    "viz.view()"
   ]
  },
  {
   "cell_type": "code",
   "execution_count": null,
   "id": "6cc65033",
   "metadata": {},
   "outputs": [],
   "source": []
  }
 ],
 "metadata": {
  "kernelspec": {
   "display_name": "PyCharm (Task_Scheduler_Problem)",
   "language": "python",
   "name": "pycharm-68e0aedf"
  },
  "language_info": {
   "codemirror_mode": {
    "name": "ipython",
    "version": 3
   },
   "file_extension": ".py",
   "mimetype": "text/x-python",
   "name": "python",
   "nbconvert_exporter": "python",
   "pygments_lexer": "ipython3",
   "version": "3.7.0"
  }
 },
 "nbformat": 4,
 "nbformat_minor": 5
}
